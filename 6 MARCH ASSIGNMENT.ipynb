{
 "cells": [
  {
   "cell_type": "markdown",
   "id": "04f26159-e53f-4c91-877a-22306c4dd364",
   "metadata": {},
   "source": [
    "6 MARCH ASSIGNMENT"
   ]
  },
  {
   "cell_type": "markdown",
   "id": "a905f024-a9b4-4afe-8152-f936115a2c39",
   "metadata": {},
   "source": [
    "Q1. What is Statistics?"
   ]
  },
  {
   "cell_type": "markdown",
   "id": "ad2dfa0b-dfeb-41ce-8dd5-67a7380e237c",
   "metadata": {},
   "source": [
    "ANSWER==Statistics is the science of collecting,organizing,analysing the data."
   ]
  },
  {
   "cell_type": "markdown",
   "id": "af4ff208-5d79-40ee-a71d-c64c1aaac19d",
   "metadata": {},
   "source": [
    "Q2. Define the different types of statistics and give an example of when each type might be used."
   ]
  },
  {
   "cell_type": "markdown",
   "id": "51feb61a-d8a9-4e52-b4a6-b8ffacca2017",
   "metadata": {},
   "source": [
    "ANSWER==1)Descriptive statistics, which describes the properties of sample and population data \n",
    "2) inferential statistics, which uses those properties to test hypotheses and draw conclusions."
   ]
  },
  {
   "cell_type": "markdown",
   "id": "5c2f347f-9851-40c4-b4c2-85f8f4f9cf56",
   "metadata": {},
   "source": [
    "Q3. What are the different types of data and how do they differ from each other? Provide an example of\n",
    "each type of data."
   ]
  },
  {
   "cell_type": "markdown",
   "id": "730c4142-036a-4ef4-b1a1-55dc72f05cba",
   "metadata": {},
   "source": [
    "ANSWER==1)Quantitative data\n",
    "2)Qualitative data\n",
    "Quantitative data can be measured and not simply observed. They can be numerically represented and calculations can be performed on them.\n",
    "Qualitative data represent some characteristics or attributes"
   ]
  },
  {
   "cell_type": "code",
   "execution_count": null,
   "id": "a20d896b-a638-4c2b-9bfe-37ac9fed7e4a",
   "metadata": {},
   "outputs": [],
   "source": [
    "Q4. Categorise the following datasets with respect to quantitative and qualitative data types:\n",
    "(i) Grading in exam: A+, A, B+, B, C+, C, D, E\n",
    "(ii) Colour of mangoes: yellow, green, orange, red\n",
    "(iii) Height data of a class: [178.9, 179, 179.5, 176, 177.2, 178.3, 175.8,...]\n",
    "(iv) Number of mangoes exported by a farm: [500, 600, 478, 672, ...]"
   ]
  },
  {
   "cell_type": "code",
   "execution_count": null,
   "id": "cd866bec-f3f4-4f19-ae18-730a8e5d176d",
   "metadata": {},
   "outputs": [],
   "source": [
    "ANSWER== (i) qualitative data \n",
    "(ii) qualitative data \n",
    "(iii) quantitative data\n",
    "(iv) quantitative data"
   ]
  },
  {
   "cell_type": "markdown",
   "id": "64ba5b51-1c08-4f64-93bc-2fb4ec8d416b",
   "metadata": {},
   "source": [
    "Q5. Explain the concept of levels of measurement and give an example of a variable for each level."
   ]
  },
  {
   "cell_type": "code",
   "execution_count": null,
   "id": "460e7db2-2dd0-4025-82dd-c76eb0b89aaa",
   "metadata": {},
   "outputs": [],
   "source": [
    "ANSWER==Levels of measurement IS ALSO scale of measurement.\n",
    "Nominal: the data can only be categorized\n",
    "eg.city of birth\n",
    "Ordinal: the data can be categorized and ranked\n",
    "eg.rank of olympic medalist\n",
    "Interval: the data can be categorized, ranked, and evenly spaced\n",
    "eg.test score(IQ and exam)\n",
    "Ratio: the data can be categorized, ranked, evenly spaced, and has a natural zero.\n",
    "eg.Height,age"
   ]
  },
  {
   "cell_type": "markdown",
   "id": "2ea95caf-ad68-4530-9263-400459dbaf26",
   "metadata": {},
   "source": [
    "Q6. Why is it important to understand the level of measurement when analyzing data? Provide an\n",
    "example to illustrate your answer."
   ]
  },
  {
   "cell_type": "markdown",
   "id": "81ec1146-6c6d-489e-8ee8-f0aabd3b12fc",
   "metadata": {},
   "source": [
    "ANSWER==It is important to understand the level of measurement of variables in research, because the level of measurement determines the type of statistical analysis that can be conducted, and, therefore, the type of conclusions that can be drawn from the research."
   ]
  },
  {
   "cell_type": "markdown",
   "id": "e90ba657-9f13-441e-b253-3db4f3e6dc97",
   "metadata": {},
   "source": [
    "Q7. How nominal data type is different from ordinal data type."
   ]
  },
  {
   "cell_type": "markdown",
   "id": "b380e920-9258-4c93-a742-3834ab55d7e7",
   "metadata": {},
   "source": [
    "ANSWER==Nominal data is classified without a natural order or rank, whereas ordinal data has a predetermined or natural order. "
   ]
  },
  {
   "cell_type": "markdown",
   "id": "c23d1276-1c08-4774-a720-5760b3db385a",
   "metadata": {},
   "source": [
    "Q8. Which type of plot can be used to display data in terms of range?"
   ]
  },
  {
   "cell_type": "code",
   "execution_count": null,
   "id": "b7ba82d6-49a8-4ec6-955e-78e130b27c7d",
   "metadata": {},
   "outputs": [],
   "source": [
    "ANSWER==Box plot ,Scatter plot"
   ]
  },
  {
   "cell_type": "markdown",
   "id": "d759602d-f1f5-4ed1-b8cf-76c61c3cfc13",
   "metadata": {},
   "source": [
    "Q9. Describe the difference between descriptive and inferential statistics. Give an example of each\n",
    "type of statistics and explain how they are used."
   ]
  },
  {
   "cell_type": "markdown",
   "id": "08bf073e-d387-4468-97d1-d944f51b6a03",
   "metadata": {},
   "source": [
    "ANSWER== Descriptive statistics summarize the features or characteristics of a data set, while Inferential statistics enables the user to test a hypothesis to check if the data is generalizable to the wider population.\n"
   ]
  },
  {
   "cell_type": "markdown",
   "id": "1e6e07e8-a50a-4543-9837-0cfc27e58f7a",
   "metadata": {},
   "source": [
    "Q10. What are some common measures of central tendency and variability used in statistics? Explain\n",
    "how each measure can be used to describe a dataset."
   ]
  },
  {
   "cell_type": "markdown",
   "id": "5d834e4e-611b-429b-81f1-b39f268d8d15",
   "metadata": {},
   "source": [
    "ANSWER== \n",
    "Central tendency and variation are two measures used in statistics to summarize data. Measure of central tendency shows where the center or middle of the data set is located, whereas measure of variation shows the dispersion among data values."
   ]
  }
 ],
 "metadata": {
  "kernelspec": {
   "display_name": "Python 3 (ipykernel)",
   "language": "python",
   "name": "python3"
  },
  "language_info": {
   "codemirror_mode": {
    "name": "ipython",
    "version": 3
   },
   "file_extension": ".py",
   "mimetype": "text/x-python",
   "name": "python",
   "nbconvert_exporter": "python",
   "pygments_lexer": "ipython3",
   "version": "3.10.8"
  }
 },
 "nbformat": 4,
 "nbformat_minor": 5
}
